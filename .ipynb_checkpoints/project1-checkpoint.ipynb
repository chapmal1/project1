{
 "cells": [
  {
   "cell_type": "markdown",
   "metadata": {},
   "source": [
    "<center><b>Final Project</b></center>\n",
    "\n",
    "Project Overview:\n",
    "\n",
    "The purpose of this project is to see the relationship between _____ and _____ in different countries across the world. Economic theory suggests that _______ leads to more economic development, but does this matter is the people are not happy? This project focuses on the relationship of these two variables and we will use linear regression analysis to test how a certain economic factor can shape the quality of lives in the world.\n",
    "\n",
    "\n",
    "Project Structure:\n",
    "\n",
    "We will begin the project by going over how to import the data, acesss the information, and perform any premliminary data transformations to ensure that we don't run into errors. \n",
    "\n",
    "Next, we will provide summary statistics about _____ levels and ________ levels for different countries. Then we will graph these basic statistics for visual understanding.\n",
    "\n",
    "After this, we will go over our assumptions for the linear regression model and what we expect to see in the predicted results. We will run the regression, analyze the output, and provide thoughts on the relationship between ______ and _______, accounting for possible confounders, errors in our analysis, and what was done well. \n",
    "\n",
    "Data Report:\n",
    "\n",
    "The data we use for this project comes from the online data science community platform, Kaggle. Kaggle is an open source hub where people can import datasets and projects to solve real world problems that companies or professional entities face. In our case, the Sustainable Development Solutions Network provided a report on world happiness. To access this data, click this link: https://www.kaggle.com/unsdsn/world-happiness.\n",
    "\n",
    "Key Variables:\n",
    "\n",
    "The _____ key variables we use in this project are _______, _______, _____, and _____. These variables are defined as ..... in units ___ and represent ... Additionally, we consider this variable and its preexisting implications on ___ ... "
   ]
  },
  {
   "cell_type": "code",
   "execution_count": null,
   "metadata": {},
   "outputs": [],
   "source": []
  }
 ],
 "metadata": {
  "kernelspec": {
   "display_name": "Python 3",
   "language": "python",
   "name": "python3"
  },
  "language_info": {
   "codemirror_mode": {
    "name": "ipython",
    "version": 3
   },
   "file_extension": ".py",
   "mimetype": "text/x-python",
   "name": "python",
   "nbconvert_exporter": "python",
   "pygments_lexer": "ipython3",
   "version": "3.7.4"
  }
 },
 "nbformat": 4,
 "nbformat_minor": 2
}
