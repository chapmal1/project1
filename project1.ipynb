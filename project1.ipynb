{
 "cells": [
  {
   "cell_type": "markdown",
   "metadata": {},
   "source": [
    "<center><b>Final Project</b></center>\n",
    "\n",
    "Project Overview:\n",
    "\n",
    "The purpose of this project is to see the relationship between life expectancy and happiness score in different countries across the world. Economic theory suggests that more developed countries have higher life expectancy, but does this matter if the people are not happy? That is why this project focuses on the relationship between the two variables and we will use linear regression analysis to test if living longer can indicate some relationship to the quality of life in one's own opinion.\n",
    "\n",
    "\n",
    "Project Structure:\n",
    "\n",
    "We will begin the project by going over how to import the data, acesss the information, and perform any premliminary data transformations to ensure that we don't run into errors. \n",
    "\n",
    "Next, we will provide summary statistics about life expectancy and hapiness score for different countries. Then we will graph these basic statistics for visual understanding.\n",
    "\n",
    "After this, we will go over our assumptions for the linear regression model and what we expect to see in the predicted results. We will run the regression, analyze the output, and provide thoughts on the relationship between life expectancy and happiness, accounting for possible confounders, errors in our analysis, and what was done well. \n",
    "\n",
    "Data Report:\n",
    "\n",
    "The data we use for this project comes from the online data science community platform, Kaggle. Kaggle is an open source hub where people can import datasets and projects to solve real world problems that companies or professional entities face. In our case, the Sustainable Development Solutions Network provided a report on world happiness. To access this data, click this link: https://www.kaggle.com/unsdsn/world-happiness.\n",
    "\n",
    "Key Variables:\n",
    "\n",
    "The 2 key variables we use in this project are life expectancy (explanatory variable) and happiness score (response variable). However, we may run into confounders and believe GDP per capita may also provide useful information as an explanatory variable, so we end up with 3 variables.\n",
    "\n",
    "We'd also like to note that the quantitative values provided in the dataset are not completely straightforward. As the data description states, \"The columns following the happiness score estimate the extent to which each of six factors – economic production, social support, life expectancy, freedom, absence of corruption, and generosity – contribute to making life evaluations higher in each country than they are in Dystopia, a hypothetical country that has values equal to the world’s lowest national averages for each of the six factors. They have no impact on the total score reported for each country, but they do explain why some countries rank higher than others.\" Therefore, we will use our explanatory variables with caution and see whether or not life expectancy and happiness either have a positive, negative, or negligent relationship with each other. We will also include a model with GDP per capita and see if the beta coefficients for the explanatory variables are significant. \n",
    "\n",
    "Having said that, the variables are defined as:\n",
    "\n",
    "<b>Health Life Expectancy:</b> the extent to which Life expectancy contributed to the calculation of the Happiness Score\n",
    "\n",
    "<b>GDP Per Capita:</b> The extent to which GDP contributes to the calculation of the Happiness Score\n",
    "\n",
    "<b>Happiness Score:</b> A metric measured by asking the sampled people the question: \"How would you rate your happiness on a scale of 0 to 10 where 10 is the happiest.\"\n"
   ]
  },
  {
   "cell_type": "code",
   "execution_count": null,
   "metadata": {},
   "outputs": [],
   "source": []
  }
 ],
 "metadata": {
  "kernelspec": {
   "display_name": "Python 3",
   "language": "python",
   "name": "python3"
  },
  "language_info": {
   "codemirror_mode": {
    "name": "ipython",
    "version": 3
   },
   "file_extension": ".py",
   "mimetype": "text/x-python",
   "name": "python",
   "nbconvert_exporter": "python",
   "pygments_lexer": "ipython3",
   "version": "3.7.4"
  }
 },
 "nbformat": 4,
 "nbformat_minor": 2
}
